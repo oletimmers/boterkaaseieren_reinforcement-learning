{
 "cells": [
  {
   "cell_type": "code",
   "execution_count": null,
   "metadata": {},
   "outputs": [],
   "source": [
    "# Boter kaas en eieren bot met reinforcement learning volgens het monte-carlo principe.\n",
    "# Author: Ole Timmers - S1115222"
   ]
  },
  {
   "cell_type": "code",
   "execution_count": 1,
   "metadata": {},
   "outputs": [],
   "source": [
    "# Allereerst importeren we het nodige:\n",
    "import numpy as np\n",
    "import random"
   ]
  },
  {
   "cell_type": "code",
   "execution_count": 2,
   "metadata": {},
   "outputs": [],
   "source": [
    "# Testbord - dit is hoe een bord zal worden aangemaakt.\n",
    "test_bord = np.matrix([[' ',' ','o'],[' ',' ','o'],['x','x',' ']])"
   ]
  },
  {
   "cell_type": "code",
   "execution_count": 3,
   "metadata": {},
   "outputs": [],
   "source": [
    "# Bereken de unieke code waarin een state kan worden vastgelegd.\n",
    "# Dit gaan we gebruiken als zoekcode om de gemiddelde win-ratio vast te leggen\n",
    "# in een dictionary.\n",
    "# returns int\n",
    "\n",
    "def berekenstate(bordToCalc):\n",
    "    k = 0\n",
    "    h = 0\n",
    "    for i in range(len(bordToCalc)):\n",
    "      for j in range(len(bordToCalc)):\n",
    "        if bordToCalc[i,j]   == ' ':\n",
    "          v = 0\n",
    "        elif bordToCalc[i,j] == 'x':\n",
    "          v = 1\n",
    "        elif bordToCalc[i,j] == 'o':\n",
    "          v = 2\n",
    "        h += (3**k) * v\n",
    "        k += 1\n",
    "    return h"
   ]
  },
  {
   "cell_type": "code",
   "execution_count": 4,
   "metadata": {},
   "outputs": [],
   "source": [
    "# Hiermee kunnen we het bord printen in de console.\n",
    "def draw_board(bordToDraw):\n",
    "    for i in range(len(bordToDraw)):\n",
    "      print(\"-------------\")\n",
    "      for j in range(len(bordToDraw)):\n",
    "        print(\"  \", end=\"\")\n",
    "        if bordToDraw[i,j] == 'x':\n",
    "          print(\"x \", end=\"\")\n",
    "        elif bordToDraw[i,j] == 'o':\n",
    "          print(\"o \", end=\"\")\n",
    "        else:\n",
    "          print(\"  \", end=\"\")\n",
    "      print(\"\")\n",
    "    print(\"-------------\")"
   ]
  },
  {
   "cell_type": "code",
   "execution_count": 5,
   "metadata": {
    "scrolled": true
   },
   "outputs": [
    {
     "name": "stdout",
     "output_type": "stream",
     "text": [
      "-------------\n",
      "          o \n",
      "-------------\n",
      "          o \n",
      "-------------\n",
      "  x   x     \n",
      "-------------\n"
     ]
    }
   ],
   "source": [
    "#Testje\n",
    "draw_board(test_bord)"
   ]
  },
  {
   "cell_type": "code",
   "execution_count": 6,
   "metadata": {},
   "outputs": [
    {
     "name": "stdout",
     "output_type": "stream",
     "text": [
      "3420\n"
     ]
    }
   ],
   "source": [
    "#Test berekenstate\n",
    "state = berekenstate(test_bord)\n",
    "print(state)"
   ]
  },
  {
   "cell_type": "code",
   "execution_count": 7,
   "metadata": {
    "scrolled": true
   },
   "outputs": [],
   "source": [
    "# Krijg alle mogelijke bewegingen te zien\n",
    "# Note: Je ziet dat ik allerlei verschillende variabel-namen gebruik voor het bord.\n",
    "#       Dat is in principe niet nodig natuurlijk, toch deed ik het omdat ik verschillende variabelen niet uit elkaar kon halen. XD\n",
    "#       Dus in principe kan je overal 'bord' zetten.\n",
    "def getMogelijkeBewegingen(bordjee):\n",
    "    moves = []\n",
    "    for i in range(len(bordjee)):\n",
    "      for j in range(len(bordjee)):\n",
    "        if bordjee[i,j] == \" \":\n",
    "                moves.append((i, j))\n",
    "    return moves"
   ]
  },
  {
   "cell_type": "code",
   "execution_count": 8,
   "metadata": {},
   "outputs": [
    {
     "name": "stdout",
     "output_type": "stream",
     "text": [
      "[(0, 0), (0, 1), (1, 0), (1, 1), (2, 2)]\n"
     ]
    }
   ],
   "source": [
    "#Test getMogelijkeBewegingen\n",
    "print(getMogelijkeBewegingen(test_bord))"
   ]
  },
  {
   "cell_type": "code",
   "execution_count": 9,
   "metadata": {},
   "outputs": [],
   "source": [
    "# getWinner(0), functie die checkt of er een winner is. \n",
    "# Bij 1 of 2 is er een winnaar.\n",
    "# Bij 0 gelijkspel\n",
    "# Bij -1 zijn er nog bewegingen te maken.\n",
    "def getWinner(bord):\n",
    "    candidate = ' '\n",
    "    won = 0\n",
    "    \n",
    "    # Eerst bekijken we rij voor rij\n",
    "    for i in range(len(bord)):\n",
    "        candidate = ' '\n",
    "        for j in range(len(bord)):\n",
    "            \n",
    "            # Wanneer er een gat is in een rij, is er sws geen winnaar.\n",
    "            if bord[i,j] == ' ':\n",
    "                break\n",
    "            \n",
    "            # Bekijk wat er in het eerste vakje staat.\n",
    "            # Want wanneer dat vakje is gevuld, moeten de rest v/d vakjes\n",
    "            # hetzelfde symbool hebben.\n",
    "            if candidate == ' ':\n",
    "                candidate = bord[i,j]\n",
    "            \n",
    "            # Break op wanneer symbolen niet overeen komen.\n",
    "            if candidate != bord[i,j]:\n",
    "                break\n",
    "            elif j == len(bord) - 1:\n",
    "                # Wanneer we alle drie de vakjes hebben gehad\n",
    "                # en er is niet gebreaked. Dan hebben we een winnaar.\n",
    "                if candidate == 'x':\n",
    "                    won = 1\n",
    "                else:\n",
    "                    won = 2\n",
    "    \n",
    "    if won > 0:\n",
    "        return won\n",
    "    \n",
    "    # Nu doen we hetzelfde voor de kolommen.\n",
    "    for j in range(len(bord)):\n",
    "        candidate = ' '\n",
    "        for i in range(len(bord)):\n",
    "            \n",
    "            # Geen gaten in de kolom - check\n",
    "            if bord[i,j] == ' ':\n",
    "                break\n",
    "            \n",
    "            # Eerste symbool opvangen\n",
    "            if candidate == ' ':\n",
    "                candidate = bord[i,j]\n",
    "            \n",
    "            # Controleren of ze allemaal gelijk zijn.\n",
    "            if candidate != bord[i,j]:\n",
    "                break\n",
    "            elif i == len(bord) - 1:\n",
    "                # We hebben een winnaar.\n",
    "                if candidate == 'x':\n",
    "                    won = 1\n",
    "                else:\n",
    "                    won = 2\n",
    "    \n",
    "    if won > 0:\n",
    "        return won\n",
    "    \n",
    "    # Nu gaan we de diagonalen controleren.\n",
    "    # (0,0), (1,1) & (2,2)\n",
    "    candidate = ' '\n",
    "    for i in range(len(bord)):\n",
    "        if bord[i, i] == ' ':\n",
    "            break\n",
    "        if candidate == ' ':\n",
    "            candidate = bord[i,i]\n",
    "        if candidate != bord[i,i]:\n",
    "            break\n",
    "        elif i == len(bord) - 1:\n",
    "            # We hebben een winnaar.\n",
    "            if candidate == ' ':\n",
    "                won = 1\n",
    "            else:\n",
    "                won = 2\n",
    "    \n",
    "    if won > 0:\n",
    "        return won\n",
    "    \n",
    "    # (0,2), (1,1) (2,0)\n",
    "    candidate = \"\"\n",
    "    for i in range(len(bord)):\n",
    "        if bord[i,2 - i] == ' ':\n",
    "            break\n",
    "        if candidate == ' ':\n",
    "            candidate = bord[i , 2 - i]\n",
    "        if candidate != bord[i , 2 - i]:\n",
    "            break\n",
    "        elif i == len(bord) - 1:\n",
    "            # We hebben een winnaar.\n",
    "            if candidate == 'x':\n",
    "                won = 1\n",
    "            else:\n",
    "                won = 2\n",
    "    \n",
    "    if won > 0:\n",
    "        return won\n",
    "    \n",
    "    # Nog steeds geen winnaar?\n",
    "    if (len(getMogelijkeBewegingen(bord)) == 0):\n",
    "        # It's a draw\n",
    "        return 0\n",
    "    else:\n",
    "        # Nog bewegingen te maken\n",
    "        return -1"
   ]
  },
  {
   "cell_type": "code",
   "execution_count": 10,
   "metadata": {},
   "outputs": [
    {
     "name": "stdout",
     "output_type": "stream",
     "text": [
      "-1\n"
     ]
    }
   ],
   "source": [
    "#Test getwinner\n",
    "print(getWinner(test_bord))"
   ]
  },
  {
   "cell_type": "code",
   "execution_count": 11,
   "metadata": {},
   "outputs": [],
   "source": [
    "# getRandomMove()\n",
    "# Om een 'domme' bot te simuleren, maken wij gebruik van getRandom om \n",
    "# een willekeurige beweging uit te voeren.\n",
    "def getRandomMove(bord):\n",
    "    mogelijkeBewegingen = getMogelijkeBewegingen(bord)\n",
    "    return random.choice(mogelijkeBewegingen)"
   ]
  },
  {
   "cell_type": "code",
   "execution_count": 12,
   "metadata": {},
   "outputs": [],
   "source": [
    "# Simuleer de game - random vs random\n",
    "# hiermee simuleer ik de game waar beide players random zullen gaan kiezen.\n",
    "# De stappen van p1 (x) zet ik als states in de historie\n",
    "# Deze zal ik verolgens returnen waarna deze in een dictionary kunnen worden gezet i.c.m. winst/verlies.\n",
    "\n",
    "# Dit was een eerste stap in het machine learning gedeelte, omdat ik hier nog niet het reinforcement learning-gedeelte toepas.\n",
    "# Later heb ik ook nog een functie waar 'ie wel ook aan reinfocement learning doet.\n",
    "def simulateGameWithRandomMoves():\n",
    "    historieVanStatesP1 = []\n",
    "    currentbord = np.matrix([[' ',' ',' '],[' ',' ',' '],[' ',' ',' ']])\n",
    "    playerToMove = 'x'\n",
    "    \n",
    "    while getWinner(currentbord) == -1:\n",
    "        \n",
    "        # Kies random move\n",
    "        move = getRandomMove(currentbord)\n",
    "        \n",
    "        # Doe beweging\n",
    "        currentbord[move[0], move[1]] = playerToMove\n",
    "        \n",
    "        if playerToMove == 'x':\n",
    "            # Voeg de nieuwe status van het bord (door speler 1) aan de historie\n",
    "            historieVanStatesP1.append(berekenstate(currentbord))\n",
    "            # switch player\n",
    "            playerToMove = 'o'\n",
    "        else:\n",
    "            playerToMove = 'x'\n",
    "            \n",
    "    return (historieVanStatesP1, getWinner(currentbord))"
   ]
  },
  {
   "cell_type": "code",
   "execution_count": 21,
   "metadata": {},
   "outputs": [
    {
     "name": "stdout",
     "output_type": "stream",
     "text": [
      "wins: 4431\n",
      "losses: 3242\n",
      "draws: 2327\n"
     ]
    }
   ],
   "source": [
    "# Test winratio - random vs random\n",
    "# Hier test ik bovenstaande functies in een for loop en kijk ik wat de resultaten zijn. \n",
    "wins = 0\n",
    "losses = 0\n",
    "draws = 0\n",
    "\n",
    "for i in range(10000):\n",
    "    resultOfGame = simulateGameWithRandomMoves()\n",
    "    uitslag = resultOfGame[1]\n",
    "    if (uitslag == 1):\n",
    "        wins += 1\n",
    "    elif (uitslag == 2):\n",
    "        losses += 1\n",
    "    else:\n",
    "        draws += 1\n",
    "        \n",
    "print('wins: ' + str(wins))\n",
    "print('losses: ' + str(losses))\n",
    "print('draws: ' + str(draws))"
   ]
  },
  {
   "cell_type": "code",
   "execution_count": 14,
   "metadata": {},
   "outputs": [],
   "source": [
    "# berekenNieuwGemiddelde(currentGemiddelde, numberToBeAdded, currentCount)\n",
    "# Met deze functie pak ik het oude gemiddelde(currentgemiddelde) en het getal\n",
    "# over hoeveel keer dat gemiddelde is genomen.\n",
    "# Met die twee gegevens en het nieuwe resultaat, maak ik een nieuwe gemiddelde aan.\n",
    "\n",
    "# Voor de duidelijkheid: ik bereken hier het gemiddelde van een bepaalde state die ik heb uitgevoerd nadat een potje is afgelopen.\n",
    "def berekenNieuwGemiddelde(currentGemiddelde, numberToBeAdded, currentCount):\n",
    "    totalNumber = currentGemiddelde * currentCount\n",
    "    if numberToBeAdded == 2:\n",
    "        totalNumber += 2\n",
    "    elif numberToBeAdded == 1:\n",
    "        totalNumber += 0\n",
    "    else:\n",
    "        totalNumber += 1\n",
    "    newCount = currentCount + 1\n",
    "    return ((totalNumber / newCount), newCount)"
   ]
  },
  {
   "cell_type": "code",
   "execution_count": 15,
   "metadata": {},
   "outputs": [],
   "source": [
    "# Nadat een game is geweest, slaan wij alle states op die x heeft doorgevoerd met het resultaat van de game.\n",
    "# In een dictionary, die aan deze functie wordt meegegeven, gaan wij vervolgens voor iedere state \n",
    "# dit resultaat aan de gemiddelde win-ratio toevoegen en de nieuwe ratio daarna berekenen.\n",
    "# Het daadwerkelijk berekenen van de ratio (het gemiddelde) doen we in de functie hierboven.\n",
    "\n",
    "# In deze functie itereren wij door alle states heen, en voegen/passen wij deze toe/aan in de dictionary.\n",
    "def addToDictionary(dictio, historie):\n",
    "    states = historie[0]\n",
    "    resultVanGame = historie[1]\n",
    "    resultToBeAdded = 0\n",
    "    # Bij verlies niks toevoegen aan gemiddelde\n",
    "    if (resultVanGame == 2):\n",
    "        resultToBeAdded = 0\n",
    "    elif (resultVanGame == 1): # Bij winst 2\n",
    "        resultToBeAdded = 2\n",
    "    else:\n",
    "        resultToBeAdded = 1 # Bij gelijkspel 1\n",
    "\n",
    "    for state in states:\n",
    "        # Als de entry in de dictionary nog niet bestaat, maak 'm aan.\n",
    "        if not (str(state) in dictio.keys()):\n",
    "            dictio[str(state)] = berekenNieuwGemiddelde(1.0, resultToBeAdded, 1)\n",
    "        else:\n",
    "            dictio[str(state)] = berekenNieuwGemiddelde(dictio[str(state)][0], resultToBeAdded, dictio[str(state)][1])\n",
    "        \n",
    "    return dictio\n",
    "    "
   ]
  },
  {
   "cell_type": "code",
   "execution_count": 16,
   "metadata": {},
   "outputs": [],
   "source": [
    "# Hier komt het reinforcment learning gedeelte echt van pas.\n",
    "# Bij activatie van deze functie, kijkt de code naar alle mogelijkheden.\n",
    "# Voor iedere mogelijkheid, maakt hij een bord van hoe het bord er uit moet zien en converteert dit vervolgens naar een statenr.\n",
    "# Dit statenr is onze zoekcode binnen de dictionary, en hiermee kunnen we de winstratio ophalen.\n",
    "# De state met de hoogste winstratio wordt vervolgens als beste move gekozen.\n",
    "def berekenBesteMove(bordje, dictio):\n",
    "    mogelijkeBewegingen = getMogelijkeBewegingen(bordje)\n",
    "    bestMove = (mogelijkeBewegingen[0], 0) # beginnen bij 0\n",
    "    for mogelijkheid in mogelijkeBewegingen:\n",
    "        # We nemen het bord over\n",
    "        bordToCalculateIn = np.matrix([[bordje[0,0],bordje[0,1],bordje[0,2]],[bordje[1,0],bordje[1,1],bordje[1,2]],[bordje[2,0],bordje[2,1],bordje[2,2]]])\n",
    "        # en voeren de move uit om naar die state te komen.\n",
    "        bordToCalculateIn[mogelijkheid[0], mogelijkheid[1]] = 'x'\n",
    "        # We maken het statenr\n",
    "        statenr = berekenstate(bordToCalculateIn)\n",
    "        # en zoeken deze op in onze dictionary\n",
    "        if (not (str(statenr) in dictio.keys())):\n",
    "            if (bestMove[1] < 1):\n",
    "                bestMove = (mogelijkheid, 1)\n",
    "        else:\n",
    "            if (bestMove[1] < dictio[str(statenr)][0]):\n",
    "                bestMove = (mogelijkheid, dictio[str(statenr)][0])\n",
    "    return bestMove"
   ]
  },
  {
   "cell_type": "code",
   "execution_count": 17,
   "metadata": {},
   "outputs": [],
   "source": [
    "# Simuleer de game - reinfocement vs random\n",
    "# Zelfde als de andere simuleergame, echter zal player x hier volgens reinforcment learning de juiste keuzes maken.\n",
    "# Met de paramter y kunnen wij de ratio verkennen/uitbuiten vaststellen. \n",
    "# Hoe lager hoe meer uitbuiting, hoe hoger hoe meer verkennen.\n",
    "\n",
    "def simuleerGameWithDictionary(dictio, y, printBoard = False):\n",
    "    historieVanStatesP1 = []\n",
    "    currentbord = np.matrix([[' ',' ',' '],[' ',' ',' '],[' ',' ',' ']])\n",
    "    playerToMove = 'x'\n",
    "    \n",
    "    while getWinner(currentbord) == -1:\n",
    "        bestChoice = False\n",
    "        # Kies random move\n",
    "        if playerToMove == 'x':\n",
    "            # alleen deze regels zijn anders dan de vorige functie.\n",
    "            if (random.random() > y):\n",
    "                move = berekenBesteMove(currentbord, dictio)[0]\n",
    "            else:\n",
    "                move = getRandomMove(currentbord)\n",
    "                \n",
    "        else:\n",
    "            move = getRandomMove(currentbord)\n",
    "        \n",
    "        # Doe beweging\n",
    "        currentbord[move[0], move[1]] = playerToMove\n",
    "        \n",
    "        # Mochten we het resultaat van de move willen printen, pas de parameter aan.\n",
    "        if printBoard:\n",
    "            print('===========')\n",
    "            draw_board(currentbord)\n",
    "        \n",
    "        \n",
    "        if playerToMove == 'x':\n",
    "            # Voeg de nieuwe status van het bord (door speler 1) aan de historie\n",
    "            historieVanStatesP1.append(berekenstate(currentbord))\n",
    "            # switch player\n",
    "            playerToMove = 'o'\n",
    "        else:\n",
    "            playerToMove = 'x'\n",
    "            \n",
    "    return (historieVanStatesP1, getWinner(currentbord))"
   ]
  },
  {
   "cell_type": "code",
   "execution_count": 18,
   "metadata": {},
   "outputs": [],
   "source": [
    "dictionaryToTestWith = {}"
   ]
  },
  {
   "cell_type": "code",
   "execution_count": 19,
   "metadata": {
    "scrolled": true
   },
   "outputs": [
    {
     "name": "stdout",
     "output_type": "stream",
     "text": [
      "wins: 9455\n",
      "losses: 545\n",
      "draws: 0\n"
     ]
    }
   ],
   "source": [
    "# HET TESTEN van de reinforcment learning\n",
    "# Dit was nogal een gekloot tussen verkennen/uitbuiten - wat is nou beter?? - maar uiteindelijk heb ik voor het volgende gekozen:\n",
    "# Eerst voeg ik aan de dictionary 150 000 games toe waarbij voor 90% aan verkennen wordt gedaan.\n",
    "# Daarna doe ik het andersom, 90% uitbuiten en 10% verkennen.\n",
    "# Als laatste doe ik 10 000 x een game met 100% uitbuiten om de resultaten te zien.\n",
    "\n",
    "for i in range(150000):\n",
    "    historieVanGame = simuleerGameWithDictionary(dictionaryToTestWith, 0.9)\n",
    "    uitslag = historieVanGame[1]\n",
    "    if (uitslag == 1):\n",
    "        wins += 1\n",
    "    elif (uitslag == 2):\n",
    "        losses += 1\n",
    "    else:\n",
    "        draws += 1\n",
    "    dictionaryToTestWith = addToDictionary(dictionaryToTestWith, historieVanGame)\n",
    "\n",
    "    \n",
    "for i in range(150000):\n",
    "    historieVanGame = simuleerGameWithDictionary(dictionaryToTestWith, 0.1)\n",
    "    uitslag = historieVanGame[1]\n",
    "    if (uitslag == 1):\n",
    "        wins += 1\n",
    "    elif (uitslag == 2):\n",
    "        losses += 1\n",
    "    else:\n",
    "        draws += 1\n",
    "    dictionaryToTestWith = addToDictionary(dictionaryToTestWith, historieVanGame)\n",
    "\n",
    "wins = 0\n",
    "losses = 0\n",
    "draws = 0\n",
    "\n",
    "# De final test....\n",
    "\n",
    "for i in range(10000):\n",
    "    historieVanGame = simuleerGameWithDictionary(dictionaryToTestWith, 0, False)\n",
    "    uitslag = historieVanGame[1]\n",
    "    if (uitslag == 1):\n",
    "        wins += 1\n",
    "    elif (uitslag == 2):\n",
    "        losses += 1\n",
    "    else:\n",
    "        draws += 1\n",
    "    dictionaryToTestWith = addToDictionary(dictionaryToTestWith, historieVanGame)\n",
    "\n",
    "print('wins: ' + str(wins))\n",
    "print('losses: ' + str(losses))\n",
    "print('draws: ' + str(draws))"
   ]
  },
  {
   "cell_type": "code",
   "execution_count": 20,
   "metadata": {},
   "outputs": [],
   "source": [
    "# TODO:\n",
    "# Zelf tegen de machine nog spelen."
   ]
  },
  {
   "cell_type": "code",
   "execution_count": null,
   "metadata": {},
   "outputs": [],
   "source": []
  }
 ],
 "metadata": {
  "kernelspec": {
   "display_name": "Python 3 (ipykernel)",
   "language": "python",
   "name": "python3"
  },
  "language_info": {
   "codemirror_mode": {
    "name": "ipython",
    "version": 3
   },
   "file_extension": ".py",
   "mimetype": "text/x-python",
   "name": "python",
   "nbconvert_exporter": "python",
   "pygments_lexer": "ipython3",
   "version": "3.9.7"
  }
 },
 "nbformat": 4,
 "nbformat_minor": 2
}
